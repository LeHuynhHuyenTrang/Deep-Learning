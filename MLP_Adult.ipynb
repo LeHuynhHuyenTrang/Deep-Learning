{
  "nbformat": 4,
  "nbformat_minor": 0,
  "metadata": {
    "colab": {
      "provenance": []
    },
    "kernelspec": {
      "name": "python3",
      "display_name": "Python 3"
    },
    "language_info": {
      "name": "python"
    }
  },
  "cells": [
    {
      "cell_type": "code",
      "execution_count": 28,
      "metadata": {
        "id": "drkEg8ZlC5Fw"
      },
      "outputs": [],
      "source": [
        "import pandas as pd\n",
        "import numpy as np\n",
        "\n",
        "import matplotlib.pyplot as plt\n",
        "\n",
        "from sklearn.model_selection import train_test_split\n",
        "from sklearn.preprocessing import StandardScaler\n",
        "\n",
        "\n",
        "from sklearn.neural_network import MLPClassifier\n",
        "\n",
        "from sklearn.metrics import accuracy_score\n",
        "from sklearn.metrics import plot_confusion_matrix\n",
        "from sklearn.metrics import classification_report\n",
        "\n",
        "import tensorflow as tf\n",
        "from tensorflow.keras.models import Sequential\n",
        "from tensorflow.keras.layers import Dense, Activation\n",
        "from tensorflow.keras.optimizers import Adam\n",
        "from keras.callbacks import ModelCheckpoint"
      ]
    },
    {
      "cell_type": "code",
      "source": [
        "link = 'https://archive.ics.uci.edu/ml/machine-learning-databases/adult/adult.data'\n",
        "names = ['age','workclass','fnlwgt','education','education-num','marital-status','occupation','relationship','race','sex','capital-gain','capital-loss','hours-per-week','native-country','income-class']\n",
        "df = pd.read_csv(link, names = names)\n",
        "df.head(5)"
      ],
      "metadata": {
        "colab": {
          "base_uri": "https://localhost:8080/",
          "height": 392
        },
        "id": "F18Y-tfaDMEn",
        "outputId": "7ace4e65-2fbe-4b7d-b95f-1cbe9a2841b4"
      },
      "execution_count": 18,
      "outputs": [
        {
          "output_type": "execute_result",
          "data": {
            "text/plain": [
              "   age          workclass  fnlwgt   education  education-num  \\\n",
              "0   39          State-gov   77516   Bachelors             13   \n",
              "1   50   Self-emp-not-inc   83311   Bachelors             13   \n",
              "2   38            Private  215646     HS-grad              9   \n",
              "3   53            Private  234721        11th              7   \n",
              "4   28            Private  338409   Bachelors             13   \n",
              "\n",
              "        marital-status          occupation    relationship    race      sex  \\\n",
              "0        Never-married        Adm-clerical   Not-in-family   White     Male   \n",
              "1   Married-civ-spouse     Exec-managerial         Husband   White     Male   \n",
              "2             Divorced   Handlers-cleaners   Not-in-family   White     Male   \n",
              "3   Married-civ-spouse   Handlers-cleaners         Husband   Black     Male   \n",
              "4   Married-civ-spouse      Prof-specialty            Wife   Black   Female   \n",
              "\n",
              "   capital-gain  capital-loss  hours-per-week  native-country income-class  \n",
              "0          2174             0              40   United-States        <=50K  \n",
              "1             0             0              13   United-States        <=50K  \n",
              "2             0             0              40   United-States        <=50K  \n",
              "3             0             0              40   United-States        <=50K  \n",
              "4             0             0              40            Cuba        <=50K  "
            ],
            "text/html": [
              "\n",
              "  <div id=\"df-c004d956-527f-4350-928a-e077c6e8580b\">\n",
              "    <div class=\"colab-df-container\">\n",
              "      <div>\n",
              "<style scoped>\n",
              "    .dataframe tbody tr th:only-of-type {\n",
              "        vertical-align: middle;\n",
              "    }\n",
              "\n",
              "    .dataframe tbody tr th {\n",
              "        vertical-align: top;\n",
              "    }\n",
              "\n",
              "    .dataframe thead th {\n",
              "        text-align: right;\n",
              "    }\n",
              "</style>\n",
              "<table border=\"1\" class=\"dataframe\">\n",
              "  <thead>\n",
              "    <tr style=\"text-align: right;\">\n",
              "      <th></th>\n",
              "      <th>age</th>\n",
              "      <th>workclass</th>\n",
              "      <th>fnlwgt</th>\n",
              "      <th>education</th>\n",
              "      <th>education-num</th>\n",
              "      <th>marital-status</th>\n",
              "      <th>occupation</th>\n",
              "      <th>relationship</th>\n",
              "      <th>race</th>\n",
              "      <th>sex</th>\n",
              "      <th>capital-gain</th>\n",
              "      <th>capital-loss</th>\n",
              "      <th>hours-per-week</th>\n",
              "      <th>native-country</th>\n",
              "      <th>income-class</th>\n",
              "    </tr>\n",
              "  </thead>\n",
              "  <tbody>\n",
              "    <tr>\n",
              "      <th>0</th>\n",
              "      <td>39</td>\n",
              "      <td>State-gov</td>\n",
              "      <td>77516</td>\n",
              "      <td>Bachelors</td>\n",
              "      <td>13</td>\n",
              "      <td>Never-married</td>\n",
              "      <td>Adm-clerical</td>\n",
              "      <td>Not-in-family</td>\n",
              "      <td>White</td>\n",
              "      <td>Male</td>\n",
              "      <td>2174</td>\n",
              "      <td>0</td>\n",
              "      <td>40</td>\n",
              "      <td>United-States</td>\n",
              "      <td>&lt;=50K</td>\n",
              "    </tr>\n",
              "    <tr>\n",
              "      <th>1</th>\n",
              "      <td>50</td>\n",
              "      <td>Self-emp-not-inc</td>\n",
              "      <td>83311</td>\n",
              "      <td>Bachelors</td>\n",
              "      <td>13</td>\n",
              "      <td>Married-civ-spouse</td>\n",
              "      <td>Exec-managerial</td>\n",
              "      <td>Husband</td>\n",
              "      <td>White</td>\n",
              "      <td>Male</td>\n",
              "      <td>0</td>\n",
              "      <td>0</td>\n",
              "      <td>13</td>\n",
              "      <td>United-States</td>\n",
              "      <td>&lt;=50K</td>\n",
              "    </tr>\n",
              "    <tr>\n",
              "      <th>2</th>\n",
              "      <td>38</td>\n",
              "      <td>Private</td>\n",
              "      <td>215646</td>\n",
              "      <td>HS-grad</td>\n",
              "      <td>9</td>\n",
              "      <td>Divorced</td>\n",
              "      <td>Handlers-cleaners</td>\n",
              "      <td>Not-in-family</td>\n",
              "      <td>White</td>\n",
              "      <td>Male</td>\n",
              "      <td>0</td>\n",
              "      <td>0</td>\n",
              "      <td>40</td>\n",
              "      <td>United-States</td>\n",
              "      <td>&lt;=50K</td>\n",
              "    </tr>\n",
              "    <tr>\n",
              "      <th>3</th>\n",
              "      <td>53</td>\n",
              "      <td>Private</td>\n",
              "      <td>234721</td>\n",
              "      <td>11th</td>\n",
              "      <td>7</td>\n",
              "      <td>Married-civ-spouse</td>\n",
              "      <td>Handlers-cleaners</td>\n",
              "      <td>Husband</td>\n",
              "      <td>Black</td>\n",
              "      <td>Male</td>\n",
              "      <td>0</td>\n",
              "      <td>0</td>\n",
              "      <td>40</td>\n",
              "      <td>United-States</td>\n",
              "      <td>&lt;=50K</td>\n",
              "    </tr>\n",
              "    <tr>\n",
              "      <th>4</th>\n",
              "      <td>28</td>\n",
              "      <td>Private</td>\n",
              "      <td>338409</td>\n",
              "      <td>Bachelors</td>\n",
              "      <td>13</td>\n",
              "      <td>Married-civ-spouse</td>\n",
              "      <td>Prof-specialty</td>\n",
              "      <td>Wife</td>\n",
              "      <td>Black</td>\n",
              "      <td>Female</td>\n",
              "      <td>0</td>\n",
              "      <td>0</td>\n",
              "      <td>40</td>\n",
              "      <td>Cuba</td>\n",
              "      <td>&lt;=50K</td>\n",
              "    </tr>\n",
              "  </tbody>\n",
              "</table>\n",
              "</div>\n",
              "      <button class=\"colab-df-convert\" onclick=\"convertToInteractive('df-c004d956-527f-4350-928a-e077c6e8580b')\"\n",
              "              title=\"Convert this dataframe to an interactive table.\"\n",
              "              style=\"display:none;\">\n",
              "        \n",
              "  <svg xmlns=\"http://www.w3.org/2000/svg\" height=\"24px\"viewBox=\"0 0 24 24\"\n",
              "       width=\"24px\">\n",
              "    <path d=\"M0 0h24v24H0V0z\" fill=\"none\"/>\n",
              "    <path d=\"M18.56 5.44l.94 2.06.94-2.06 2.06-.94-2.06-.94-.94-2.06-.94 2.06-2.06.94zm-11 1L8.5 8.5l.94-2.06 2.06-.94-2.06-.94L8.5 2.5l-.94 2.06-2.06.94zm10 10l.94 2.06.94-2.06 2.06-.94-2.06-.94-.94-2.06-.94 2.06-2.06.94z\"/><path d=\"M17.41 7.96l-1.37-1.37c-.4-.4-.92-.59-1.43-.59-.52 0-1.04.2-1.43.59L10.3 9.45l-7.72 7.72c-.78.78-.78 2.05 0 2.83L4 21.41c.39.39.9.59 1.41.59.51 0 1.02-.2 1.41-.59l7.78-7.78 2.81-2.81c.8-.78.8-2.07 0-2.86zM5.41 20L4 18.59l7.72-7.72 1.47 1.35L5.41 20z\"/>\n",
              "  </svg>\n",
              "      </button>\n",
              "      \n",
              "  <style>\n",
              "    .colab-df-container {\n",
              "      display:flex;\n",
              "      flex-wrap:wrap;\n",
              "      gap: 12px;\n",
              "    }\n",
              "\n",
              "    .colab-df-convert {\n",
              "      background-color: #E8F0FE;\n",
              "      border: none;\n",
              "      border-radius: 50%;\n",
              "      cursor: pointer;\n",
              "      display: none;\n",
              "      fill: #1967D2;\n",
              "      height: 32px;\n",
              "      padding: 0 0 0 0;\n",
              "      width: 32px;\n",
              "    }\n",
              "\n",
              "    .colab-df-convert:hover {\n",
              "      background-color: #E2EBFA;\n",
              "      box-shadow: 0px 1px 2px rgba(60, 64, 67, 0.3), 0px 1px 3px 1px rgba(60, 64, 67, 0.15);\n",
              "      fill: #174EA6;\n",
              "    }\n",
              "\n",
              "    [theme=dark] .colab-df-convert {\n",
              "      background-color: #3B4455;\n",
              "      fill: #D2E3FC;\n",
              "    }\n",
              "\n",
              "    [theme=dark] .colab-df-convert:hover {\n",
              "      background-color: #434B5C;\n",
              "      box-shadow: 0px 1px 3px 1px rgba(0, 0, 0, 0.15);\n",
              "      filter: drop-shadow(0px 1px 2px rgba(0, 0, 0, 0.3));\n",
              "      fill: #FFFFFF;\n",
              "    }\n",
              "  </style>\n",
              "\n",
              "      <script>\n",
              "        const buttonEl =\n",
              "          document.querySelector('#df-c004d956-527f-4350-928a-e077c6e8580b button.colab-df-convert');\n",
              "        buttonEl.style.display =\n",
              "          google.colab.kernel.accessAllowed ? 'block' : 'none';\n",
              "\n",
              "        async function convertToInteractive(key) {\n",
              "          const element = document.querySelector('#df-c004d956-527f-4350-928a-e077c6e8580b');\n",
              "          const dataTable =\n",
              "            await google.colab.kernel.invokeFunction('convertToInteractive',\n",
              "                                                     [key], {});\n",
              "          if (!dataTable) return;\n",
              "\n",
              "          const docLinkHtml = 'Like what you see? Visit the ' +\n",
              "            '<a target=\"_blank\" href=https://colab.research.google.com/notebooks/data_table.ipynb>data table notebook</a>'\n",
              "            + ' to learn more about interactive tables.';\n",
              "          element.innerHTML = '';\n",
              "          dataTable['output_type'] = 'display_data';\n",
              "          await google.colab.output.renderOutput(dataTable, element);\n",
              "          const docLink = document.createElement('div');\n",
              "          docLink.innerHTML = docLinkHtml;\n",
              "          element.appendChild(docLink);\n",
              "        }\n",
              "      </script>\n",
              "    </div>\n",
              "  </div>\n",
              "  "
            ]
          },
          "metadata": {},
          "execution_count": 18
        }
      ]
    },
    {
      "cell_type": "code",
      "source": [
        "df['income-class'].value_counts().plot.bar()"
      ],
      "metadata": {
        "colab": {
          "base_uri": "https://localhost:8080/",
          "height": 312
        },
        "id": "Mp-Ukx_oDxt9",
        "outputId": "dd100955-ac28-4b84-954f-37006bd564f5"
      },
      "execution_count": 20,
      "outputs": [
        {
          "output_type": "execute_result",
          "data": {
            "text/plain": [
              "<matplotlib.axes._subplots.AxesSubplot at 0x7f2ee774d370>"
            ]
          },
          "metadata": {},
          "execution_count": 20
        },
        {
          "output_type": "display_data",
          "data": {
            "text/plain": [
              "<Figure size 432x288 with 1 Axes>"
            ],
            "image/png": "[encoded data removed]"
          },
          "metadata": {
            "needs_background": "light"
          }
        }
      ]
    },
    {
      "cell_type": "code",
      "source": [
        "types = df.dtypes\n",
        "from sklearn.preprocessing import LabelEncoder \n",
        "le = LabelEncoder()\n",
        "for i in range(len(types)):\n",
        "  if types[i]=='object':\n",
        "    le.fit_transform(df[names[i]])\n",
        "    df[names[i]] = le.transform(df[names[i]])"
      ],
      "metadata": {
        "id": "eFpG-DOHETxa"
      },
      "execution_count": 21,
      "outputs": []
    },
    {
      "cell_type": "code",
      "source": [
        "data = df.values\n",
        "X = data[:, :-1]\n",
        "y = data[:, -1]\n",
        "print(X.shape)\n",
        "print(y.shape)"
      ],
      "metadata": {
        "colab": {
          "base_uri": "https://localhost:8080/"
        },
        "id": "P8MfDewbD0UL",
        "outputId": "5b80ad20-5e24-4ad3-bf63-d49ad098829e"
      },
      "execution_count": 22,
      "outputs": [
        {
          "output_type": "stream",
          "name": "stdout",
          "text": [
            "(32561, 14)\n",
            "(32561,)\n"
          ]
        }
      ]
    },
    {
      "cell_type": "code",
      "source": [
        "X_train, X_test, y_train, y_test = train_test_split(X, y, test_size = 0.2)"
      ],
      "metadata": {
        "id": "jwKihd2UHjLC"
      },
      "execution_count": 24,
      "outputs": []
    },
    {
      "cell_type": "code",
      "source": [
        "sc=StandardScaler()\n",
        "\n",
        "scaler = sc.fit(X_train)\n",
        "X_train_scaled = scaler.transform(X_train)\n",
        "X_test_scaled = scaler.transform(X_test)"
      ],
      "metadata": {
        "id": "8NHOL1n2HJ_l"
      },
      "execution_count": 25,
      "outputs": []
    },
    {
      "cell_type": "code",
      "source": [
        "mlp_clf = MLPClassifier(hidden_layer_sizes=(150,100,50),\n",
        "                        max_iter = 300,activation = 'relu',\n",
        "                        solver = 'adam')\n",
        "\n",
        "mlp_clf.fit(X_train_scaled, y_train)"
      ],
      "metadata": {
        "colab": {
          "base_uri": "https://localhost:8080/"
        },
        "id": "6sJWHRftISs7",
        "outputId": "746c4370-6160-4ffc-b5e4-57d88019b8f8"
      },
      "execution_count": 27,
      "outputs": [
        {
          "output_type": "execute_result",
          "data": {
            "text/plain": [
              "MLPClassifier(hidden_layer_sizes=(150, 100, 50), max_iter=300)"
            ]
          },
          "metadata": {},
          "execution_count": 27
        }
      ]
    },
    {
      "cell_type": "code",
      "source": [
        "y_pred = mlp_clf.predict(X_test_scaled)\n",
        "\n",
        "print('Accuracy: {:.2f}'.format(accuracy_score(y_test, y_pred)))"
      ],
      "metadata": {
        "colab": {
          "base_uri": "https://localhost:8080/"
        },
        "id": "bPkqQR8WI_3L",
        "outputId": "bc93cfe1-a4da-4328-9c7d-223e5fb6ac88"
      },
      "execution_count": 29,
      "outputs": [
        {
          "output_type": "stream",
          "name": "stdout",
          "text": [
            "Accuracy: 0.82\n"
          ]
        }
      ]
    },
    {
      "cell_type": "code",
      "source": [
        "fig = plot_confusion_matrix(mlp_clf, X_test_scaled, y_test, display_labels=mlp_clf.classes_)\n",
        "fig.figure_.suptitle(\"Confusion Matrix for Adult Dataset\")\n",
        "plt.show()"
      ],
      "metadata": {
        "colab": {
          "base_uri": "https://localhost:8080/",
          "height": 364
        },
        "id": "u-Ffvjx1JJs8",
        "outputId": "e1ffa562-a4b5-48cb-944a-6165a3328dfe"
      },
      "execution_count": 30,
      "outputs": [
        {
          "output_type": "stream",
          "name": "stderr",
          "text": [
            "/usr/local/lib/python3.8/dist-packages/sklearn/utils/deprecation.py:87: FutureWarning: Function plot_confusion_matrix is deprecated; Function `plot_confusion_matrix` is deprecated in 1.0 and will be removed in 1.2. Use one of the class methods: ConfusionMatrixDisplay.from_predictions or ConfusionMatrixDisplay.from_estimator.\n",
            "  warnings.warn(msg, category=FutureWarning)\n"
          ]
        },
        {
          "output_type": "display_data",
          "data": {
            "text/plain": [
              "<Figure size 432x288 with 2 Axes>"
            ],
            "image/png": "[encoded data removed]"
          },
          "metadata": {
            "needs_background": "light"
          }
        }
      ]
    },
    {
      "cell_type": "code",
      "source": [
        "print(classification_report(y_test, y_pred))"
      ],
      "metadata": {
        "colab": {
          "base_uri": "https://localhost:8080/"
        },
        "id": "sq732lgQJSWM",
        "outputId": "44f955c3-9d9a-403a-e92f-2fb301f7f157"
      },
      "execution_count": 31,
      "outputs": [
        {
          "output_type": "stream",
          "name": "stdout",
          "text": [
            "              precision    recall  f1-score   support\n",
            "\n",
            "           0       0.86      0.90      0.88      4896\n",
            "           1       0.65      0.57      0.61      1617\n",
            "\n",
            "    accuracy                           0.82      6513\n",
            "   macro avg       0.76      0.73      0.74      6513\n",
            "weighted avg       0.81      0.82      0.81      6513\n",
            "\n"
          ]
        }
      ]
    },
    {
      "cell_type": "code",
      "source": [
        "from tensorflow.keras.utils import to_categorical\n",
        "y_train = to_categorical(y_train)\n",
        "print(y_train[:2])"
      ],
      "metadata": {
        "colab": {
          "base_uri": "https://localhost:8080/"
        },
        "id": "rob8fX3xOSsV",
        "outputId": "6fc88719-7c7e-471b-a154-4ef144d1a1c9"
      },
      "execution_count": 46,
      "outputs": [
        {
          "output_type": "stream",
          "name": "stdout",
          "text": [
            "[[1. 0.]\n",
            " [1. 0.]]\n"
          ]
        }
      ]
    },
    {
      "cell_type": "code",
      "source": [
        "model = Sequential()\n",
        "model.add(Dense(32, activation='relu'))\n",
        "model.add(Dense(32, activation='relu'))\n",
        "model.add(Dense(16, activation='relu'))\n",
        "model.add(Dense(2,activation='sigmoid'))\n",
        "model.compile(loss='categorical_crossentropy', optimizer='adam', \n",
        "              metrics=['accuracy'])"
      ],
      "metadata": {
        "id": "v-0lPSS-JfXg"
      },
      "execution_count": 55,
      "outputs": []
    },
    {
      "cell_type": "code",
      "source": [
        "history = model.fit(x=X_train,y=y_train, validation_split=0.2,\n",
        "                    batch_size=128,epochs=100)\n"
      ],
      "metadata": {
        "colab": {
          "base_uri": "https://localhost:8080/"
        },
        "id": "qR1isyO-Kwwy",
        "outputId": "1da37aa4-d9db-4482-b238-8a4a536a5229"
      },
      "execution_count": 57,
      "outputs": [
        {
          "output_type": "stream",
          "name": "stdout",
          "text": [
            "Epoch 1/100\n",
            "163/163 [==============================] - 0s 3ms/step - loss: 44.5640 - accuracy: 0.6878 - val_loss: 15.1189 - val_accuracy: 0.7843\n",
            "Epoch 2/100\n",
            "163/163 [==============================] - 0s 3ms/step - loss: 65.4352 - accuracy: 0.6783 - val_loss: 73.4465 - val_accuracy: 0.7797\n",
            "Epoch 3/100\n",
            "163/163 [==============================] - 0s 3ms/step - loss: 62.7387 - accuracy: 0.6858 - val_loss: 106.5617 - val_accuracy: 0.7749\n",
            "Epoch 4/100\n",
            "163/163 [==============================] - 0s 3ms/step - loss: 54.0808 - accuracy: 0.6795 - val_loss: 34.2920 - val_accuracy: 0.7910\n",
            "Epoch 5/100\n",
            "163/163 [==============================] - 0s 2ms/step - loss: 56.0140 - accuracy: 0.6855 - val_loss: 65.9295 - val_accuracy: 0.7854\n",
            "Epoch 6/100\n",
            "163/163 [==============================] - 0s 3ms/step - loss: 71.4998 - accuracy: 0.6814 - val_loss: 26.4720 - val_accuracy: 0.7881\n",
            "Epoch 7/100\n",
            "163/163 [==============================] - 1s 3ms/step - loss: 35.0007 - accuracy: 0.6931 - val_loss: 31.4764 - val_accuracy: 0.7856\n",
            "Epoch 8/100\n",
            "163/163 [==============================] - 1s 4ms/step - loss: 38.5489 - accuracy: 0.6853 - val_loss: 7.7123 - val_accuracy: 0.7534\n",
            "Epoch 9/100\n",
            "163/163 [==============================] - 0s 3ms/step - loss: 33.9595 - accuracy: 0.6845 - val_loss: 50.4239 - val_accuracy: 0.7821\n",
            "Epoch 10/100\n",
            "163/163 [==============================] - 0s 3ms/step - loss: 46.1773 - accuracy: 0.6843 - val_loss: 17.6626 - val_accuracy: 0.7893\n",
            "Epoch 11/100\n",
            "163/163 [==============================] - 0s 3ms/step - loss: 30.2400 - accuracy: 0.6912 - val_loss: 35.7997 - val_accuracy: 0.7869\n",
            "Epoch 12/100\n",
            "163/163 [==============================] - 0s 3ms/step - loss: 28.2479 - accuracy: 0.6975 - val_loss: 90.6385 - val_accuracy: 0.2432\n",
            "Epoch 13/100\n",
            "163/163 [==============================] - 0s 2ms/step - loss: 39.7750 - accuracy: 0.6869 - val_loss: 40.0349 - val_accuracy: 0.2432\n",
            "Epoch 14/100\n",
            "163/163 [==============================] - 0s 3ms/step - loss: 37.4858 - accuracy: 0.6815 - val_loss: 12.8288 - val_accuracy: 0.7831\n",
            "Epoch 15/100\n",
            "163/163 [==============================] - 1s 3ms/step - loss: 35.4039 - accuracy: 0.6858 - val_loss: 13.8773 - val_accuracy: 0.2453\n",
            "Epoch 16/100\n",
            "163/163 [==============================] - 0s 3ms/step - loss: 24.2500 - accuracy: 0.6900 - val_loss: 48.3206 - val_accuracy: 0.7754\n",
            "Epoch 17/100\n",
            "163/163 [==============================] - 0s 2ms/step - loss: 38.8595 - accuracy: 0.6840 - val_loss: 19.8763 - val_accuracy: 0.7896\n",
            "Epoch 18/100\n",
            "163/163 [==============================] - 0s 3ms/step - loss: 30.2997 - accuracy: 0.6844 - val_loss: 134.0505 - val_accuracy: 0.7685\n",
            "Epoch 19/100\n",
            "163/163 [==============================] - 0s 3ms/step - loss: 41.7352 - accuracy: 0.6822 - val_loss: 6.5192 - val_accuracy: 0.6111\n",
            "Epoch 20/100\n",
            "163/163 [==============================] - 0s 3ms/step - loss: 28.9963 - accuracy: 0.6893 - val_loss: 53.1687 - val_accuracy: 0.2432\n",
            "Epoch 21/100\n",
            "163/163 [==============================] - 0s 3ms/step - loss: 39.7518 - accuracy: 0.6812 - val_loss: 26.1400 - val_accuracy: 0.7900\n",
            "Epoch 22/100\n",
            "163/163 [==============================] - 0s 3ms/step - loss: 25.3565 - accuracy: 0.6944 - val_loss: 63.4311 - val_accuracy: 0.7706\n",
            "Epoch 23/100\n",
            "163/163 [==============================] - 0s 3ms/step - loss: 19.9032 - accuracy: 0.6899 - val_loss: 9.8871 - val_accuracy: 0.7927\n",
            "Epoch 24/100\n",
            "163/163 [==============================] - 0s 3ms/step - loss: 22.0723 - accuracy: 0.6832 - val_loss: 13.6153 - val_accuracy: 0.7894\n",
            "Epoch 25/100\n",
            "163/163 [==============================] - 1s 4ms/step - loss: 18.7754 - accuracy: 0.6957 - val_loss: 9.2364 - val_accuracy: 0.7883\n",
            "Epoch 26/100\n",
            "163/163 [==============================] - 1s 3ms/step - loss: 25.4774 - accuracy: 0.6872 - val_loss: 17.2674 - val_accuracy: 0.7891\n",
            "Epoch 27/100\n",
            "163/163 [==============================] - 0s 3ms/step - loss: 11.1974 - accuracy: 0.6940 - val_loss: 21.7571 - val_accuracy: 0.7762\n",
            "Epoch 28/100\n",
            "163/163 [==============================] - 0s 3ms/step - loss: 19.6380 - accuracy: 0.6854 - val_loss: 30.2562 - val_accuracy: 0.7798\n",
            "Epoch 29/100\n",
            "163/163 [==============================] - 0s 3ms/step - loss: 18.3638 - accuracy: 0.6836 - val_loss: 35.4253 - val_accuracy: 0.7739\n",
            "Epoch 30/100\n",
            "163/163 [==============================] - 0s 3ms/step - loss: 37.9356 - accuracy: 0.6796 - val_loss: 26.5682 - val_accuracy: 0.7875\n",
            "Epoch 31/100\n",
            "163/163 [==============================] - 0s 3ms/step - loss: 15.3663 - accuracy: 0.6972 - val_loss: 6.2186 - val_accuracy: 0.7891\n",
            "Epoch 32/100\n",
            "163/163 [==============================] - 0s 3ms/step - loss: 13.5958 - accuracy: 0.6856 - val_loss: 40.2666 - val_accuracy: 0.7655\n",
            "Epoch 33/100\n",
            "163/163 [==============================] - 0s 3ms/step - loss: 27.7951 - accuracy: 0.6808 - val_loss: 40.2419 - val_accuracy: 0.7752\n",
            "Epoch 34/100\n",
            "163/163 [==============================] - 0s 3ms/step - loss: 12.6251 - accuracy: 0.6914 - val_loss: 10.1008 - val_accuracy: 0.7831\n",
            "Epoch 35/100\n",
            "163/163 [==============================] - 0s 3ms/step - loss: 9.8636 - accuracy: 0.6864 - val_loss: 10.2651 - val_accuracy: 0.7896\n",
            "Epoch 36/100\n",
            "163/163 [==============================] - 0s 2ms/step - loss: 10.2109 - accuracy: 0.6974 - val_loss: 29.1725 - val_accuracy: 0.7658\n",
            "Epoch 37/100\n",
            "163/163 [==============================] - 0s 3ms/step - loss: 10.1250 - accuracy: 0.6925 - val_loss: 9.4081 - val_accuracy: 0.7762\n",
            "Epoch 38/100\n",
            "163/163 [==============================] - 0s 3ms/step - loss: 9.3246 - accuracy: 0.6904 - val_loss: 1.8681 - val_accuracy: 0.4509\n",
            "Epoch 39/100\n",
            "163/163 [==============================] - 0s 3ms/step - loss: 8.6244 - accuracy: 0.6893 - val_loss: 17.6840 - val_accuracy: 0.7772\n",
            "Epoch 40/100\n",
            "163/163 [==============================] - 0s 3ms/step - loss: 8.8804 - accuracy: 0.6948 - val_loss: 13.7086 - val_accuracy: 0.7835\n",
            "Epoch 41/100\n",
            "163/163 [==============================] - 0s 3ms/step - loss: 7.0748 - accuracy: 0.6972 - val_loss: 6.8191 - val_accuracy: 0.7850\n",
            "Epoch 42/100\n",
            "163/163 [==============================] - 0s 3ms/step - loss: 5.9949 - accuracy: 0.6911 - val_loss: 4.7670 - val_accuracy: 0.7898\n",
            "Epoch 43/100\n",
            "163/163 [==============================] - 0s 3ms/step - loss: 5.3606 - accuracy: 0.6952 - val_loss: 16.6938 - val_accuracy: 0.7672\n",
            "Epoch 44/100\n",
            "163/163 [==============================] - 0s 3ms/step - loss: 4.2290 - accuracy: 0.6929 - val_loss: 4.9476 - val_accuracy: 0.2605\n",
            "Epoch 45/100\n",
            "163/163 [==============================] - 0s 3ms/step - loss: 4.7962 - accuracy: 0.6993 - val_loss: 4.3429 - val_accuracy: 0.2658\n",
            "Epoch 46/100\n",
            "163/163 [==============================] - 0s 3ms/step - loss: 5.1457 - accuracy: 0.6871 - val_loss: 2.5481 - val_accuracy: 0.7875\n",
            "Epoch 47/100\n",
            "163/163 [==============================] - 0s 3ms/step - loss: 5.0209 - accuracy: 0.7001 - val_loss: 1.1816 - val_accuracy: 0.7896\n",
            "Epoch 48/100\n",
            "163/163 [==============================] - 0s 2ms/step - loss: 3.1160 - accuracy: 0.6966 - val_loss: 1.7957 - val_accuracy: 0.7906\n",
            "Epoch 49/100\n",
            "163/163 [==============================] - 0s 2ms/step - loss: 2.5768 - accuracy: 0.7003 - val_loss: 3.2795 - val_accuracy: 0.7749\n",
            "Epoch 50/100\n",
            "163/163 [==============================] - 0s 3ms/step - loss: 2.2614 - accuracy: 0.7052 - val_loss: 1.1871 - val_accuracy: 0.7871\n",
            "Epoch 51/100\n",
            "163/163 [==============================] - 0s 3ms/step - loss: 2.2055 - accuracy: 0.7012 - val_loss: 1.4709 - val_accuracy: 0.7929\n",
            "Epoch 52/100\n",
            "163/163 [==============================] - 0s 3ms/step - loss: 1.3808 - accuracy: 0.7163 - val_loss: 2.1909 - val_accuracy: 0.7821\n",
            "Epoch 53/100\n",
            "163/163 [==============================] - 0s 2ms/step - loss: 2.4642 - accuracy: 0.7083 - val_loss: 14.9544 - val_accuracy: 0.7683\n",
            "Epoch 54/100\n",
            "163/163 [==============================] - 0s 3ms/step - loss: 29.5846 - accuracy: 0.6783 - val_loss: 7.4330 - val_accuracy: 0.7869\n",
            "Epoch 55/100\n",
            "163/163 [==============================] - 0s 3ms/step - loss: 4.2258 - accuracy: 0.6952 - val_loss: 2.2206 - val_accuracy: 0.7868\n",
            "Epoch 56/100\n",
            "163/163 [==============================] - 0s 3ms/step - loss: 2.3310 - accuracy: 0.7106 - val_loss: 6.1455 - val_accuracy: 0.7718\n",
            "Epoch 57/100\n",
            "163/163 [==============================] - 0s 3ms/step - loss: 1.4096 - accuracy: 0.7231 - val_loss: 0.8964 - val_accuracy: 0.7917\n",
            "Epoch 58/100\n",
            "163/163 [==============================] - 0s 3ms/step - loss: 0.9432 - accuracy: 0.7315 - val_loss: 0.7192 - val_accuracy: 0.7916\n",
            "Epoch 59/100\n",
            "163/163 [==============================] - 0s 3ms/step - loss: 0.7356 - accuracy: 0.7470 - val_loss: 0.7231 - val_accuracy: 0.7871\n",
            "Epoch 60/100\n",
            "163/163 [==============================] - 0s 3ms/step - loss: 0.6470 - accuracy: 0.7585 - val_loss: 0.5076 - val_accuracy: 0.7864\n",
            "Epoch 61/100\n",
            "163/163 [==============================] - 0s 3ms/step - loss: 0.7099 - accuracy: 0.7507 - val_loss: 1.2094 - val_accuracy: 0.7774\n",
            "Epoch 62/100\n",
            "163/163 [==============================] - 0s 3ms/step - loss: 0.7234 - accuracy: 0.7563 - val_loss: 0.7226 - val_accuracy: 0.6263\n",
            "Epoch 63/100\n",
            "163/163 [==============================] - 0s 3ms/step - loss: 0.5475 - accuracy: 0.7806 - val_loss: 0.5215 - val_accuracy: 0.7950\n",
            "Epoch 64/100\n",
            "163/163 [==============================] - 0s 3ms/step - loss: 0.6042 - accuracy: 0.7688 - val_loss: 0.5653 - val_accuracy: 0.7539\n",
            "Epoch 65/100\n",
            "163/163 [==============================] - 0s 3ms/step - loss: 0.5406 - accuracy: 0.7849 - val_loss: 0.5775 - val_accuracy: 0.7349\n",
            "Epoch 66/100\n",
            "163/163 [==============================] - 0s 3ms/step - loss: 0.5171 - accuracy: 0.7888 - val_loss: 0.5211 - val_accuracy: 0.7783\n",
            "Epoch 67/100\n",
            "163/163 [==============================] - 0s 3ms/step - loss: 0.5620 - accuracy: 0.7772 - val_loss: 0.4983 - val_accuracy: 0.7885\n",
            "Epoch 68/100\n",
            "163/163 [==============================] - 0s 3ms/step - loss: 0.4987 - accuracy: 0.7953 - val_loss: 0.6470 - val_accuracy: 0.7858\n",
            "Epoch 69/100\n",
            "163/163 [==============================] - 0s 3ms/step - loss: 0.5294 - accuracy: 0.7902 - val_loss: 0.6115 - val_accuracy: 0.7864\n",
            "Epoch 70/100\n",
            "163/163 [==============================] - 0s 3ms/step - loss: 0.6777 - accuracy: 0.7773 - val_loss: 1.7085 - val_accuracy: 0.3152\n",
            "Epoch 71/100\n",
            "163/163 [==============================] - 0s 3ms/step - loss: 6.5508 - accuracy: 0.6936 - val_loss: 37.0732 - val_accuracy: 0.7647\n",
            "Epoch 72/100\n",
            "163/163 [==============================] - 0s 3ms/step - loss: 3.0219 - accuracy: 0.6888 - val_loss: 0.5660 - val_accuracy: 0.7762\n",
            "Epoch 73/100\n",
            "163/163 [==============================] - 0s 3ms/step - loss: 0.6091 - accuracy: 0.7649 - val_loss: 0.7125 - val_accuracy: 0.6113\n",
            "Epoch 74/100\n",
            "163/163 [==============================] - 0s 3ms/step - loss: 0.6707 - accuracy: 0.7511 - val_loss: 0.5341 - val_accuracy: 0.7992\n",
            "Epoch 75/100\n",
            "163/163 [==============================] - 0s 3ms/step - loss: 0.5734 - accuracy: 0.7803 - val_loss: 0.5579 - val_accuracy: 0.7869\n",
            "Epoch 76/100\n",
            "163/163 [==============================] - 0s 3ms/step - loss: 0.5322 - accuracy: 0.7916 - val_loss: 0.7330 - val_accuracy: 0.5887\n",
            "Epoch 77/100\n",
            "163/163 [==============================] - 0s 3ms/step - loss: 0.5208 - accuracy: 0.7952 - val_loss: 0.5087 - val_accuracy: 0.8019\n",
            "Epoch 78/100\n",
            "163/163 [==============================] - 0s 3ms/step - loss: 0.5405 - accuracy: 0.7873 - val_loss: 0.5433 - val_accuracy: 0.7864\n",
            "Epoch 79/100\n",
            "163/163 [==============================] - 0s 3ms/step - loss: 0.5258 - accuracy: 0.7884 - val_loss: 0.5089 - val_accuracy: 0.8010\n",
            "Epoch 80/100\n",
            "163/163 [==============================] - 0s 3ms/step - loss: 0.5107 - accuracy: 0.7935 - val_loss: 0.5555 - val_accuracy: 0.7925\n",
            "Epoch 81/100\n",
            "163/163 [==============================] - 1s 5ms/step - loss: 0.5169 - accuracy: 0.7937 - val_loss: 0.6086 - val_accuracy: 0.7823\n",
            "Epoch 82/100\n",
            "163/163 [==============================] - 0s 3ms/step - loss: 3.1750 - accuracy: 0.7202 - val_loss: 2.1117 - val_accuracy: 0.7800\n",
            "Epoch 83/100\n",
            "163/163 [==============================] - 0s 3ms/step - loss: 0.8082 - accuracy: 0.7553 - val_loss: 0.7694 - val_accuracy: 0.7666\n",
            "Epoch 84/100\n",
            "163/163 [==============================] - 0s 3ms/step - loss: 0.5912 - accuracy: 0.7741 - val_loss: 0.5802 - val_accuracy: 0.7678\n",
            "Epoch 85/100\n",
            "163/163 [==============================] - 0s 3ms/step - loss: 0.5790 - accuracy: 0.7729 - val_loss: 0.5725 - val_accuracy: 0.7674\n",
            "Epoch 86/100\n",
            "163/163 [==============================] - 0s 3ms/step - loss: 0.5452 - accuracy: 0.7730 - val_loss: 0.5887 - val_accuracy: 0.7674\n",
            "Epoch 87/100\n",
            "163/163 [==============================] - 0s 3ms/step - loss: 0.5572 - accuracy: 0.7726 - val_loss: 0.5550 - val_accuracy: 0.7674\n",
            "Epoch 88/100\n",
            "163/163 [==============================] - 0s 3ms/step - loss: 0.5410 - accuracy: 0.7739 - val_loss: 0.5475 - val_accuracy: 0.7693\n",
            "Epoch 89/100\n",
            "163/163 [==============================] - 0s 3ms/step - loss: 0.5451 - accuracy: 0.7742 - val_loss: 0.5521 - val_accuracy: 0.7689\n",
            "Epoch 90/100\n",
            "163/163 [==============================] - 0s 3ms/step - loss: 0.5394 - accuracy: 0.7744 - val_loss: 0.5443 - val_accuracy: 0.7670\n",
            "Epoch 91/100\n",
            "163/163 [==============================] - 0s 3ms/step - loss: 0.5364 - accuracy: 0.7752 - val_loss: 0.5420 - val_accuracy: 0.7702\n",
            "Epoch 92/100\n",
            "163/163 [==============================] - 0s 3ms/step - loss: 0.5379 - accuracy: 0.7765 - val_loss: 0.5650 - val_accuracy: 0.7710\n",
            "Epoch 93/100\n",
            "163/163 [==============================] - 0s 3ms/step - loss: 0.5392 - accuracy: 0.7752 - val_loss: 0.5404 - val_accuracy: 0.7689\n",
            "Epoch 94/100\n",
            "163/163 [==============================] - 0s 3ms/step - loss: 0.5330 - accuracy: 0.7753 - val_loss: 0.5371 - val_accuracy: 0.7716\n",
            "Epoch 95/100\n",
            "163/163 [==============================] - 0s 3ms/step - loss: 0.5303 - accuracy: 0.7804 - val_loss: 0.5276 - val_accuracy: 0.7775\n",
            "Epoch 96/100\n",
            "163/163 [==============================] - 0s 2ms/step - loss: 0.5248 - accuracy: 0.7866 - val_loss: 0.5745 - val_accuracy: 0.7802\n",
            "Epoch 97/100\n",
            "163/163 [==============================] - 0s 3ms/step - loss: 0.5129 - accuracy: 0.7936 - val_loss: 0.5151 - val_accuracy: 0.7869\n",
            "Epoch 98/100\n",
            "163/163 [==============================] - 0s 3ms/step - loss: 0.5102 - accuracy: 0.7954 - val_loss: 0.5760 - val_accuracy: 0.7871\n",
            "Epoch 99/100\n",
            "163/163 [==============================] - 0s 3ms/step - loss: 0.5118 - accuracy: 0.7972 - val_loss: 0.5045 - val_accuracy: 0.7921\n",
            "Epoch 100/100\n",
            "163/163 [==============================] - 0s 3ms/step - loss: 0.5020 - accuracy: 0.7974 - val_loss: 0.5190 - val_accuracy: 0.7818\n"
          ]
        }
      ]
    },
    {
      "cell_type": "code",
      "source": [
        "model.summary()"
      ],
      "metadata": {
        "colab": {
          "base_uri": "https://localhost:8080/"
        },
        "id": "z6_yka7ROqjP",
        "outputId": "a3d283be-8464-4066-dcac-047f17cf9930"
      },
      "execution_count": 58,
      "outputs": [
        {
          "output_type": "stream",
          "name": "stdout",
          "text": [
            "Model: \"sequential_10\"\n",
            "_________________________________________________________________\n",
            " Layer (type)                Output Shape              Param #   \n",
            "=================================================================\n",
            " dense_40 (Dense)            (None, 32)                480       \n",
            "                                                                 \n",
            " dense_41 (Dense)            (None, 32)                1056      \n",
            "                                                                 \n",
            " dense_42 (Dense)            (None, 16)                528       \n",
            "                                                                 \n",
            " dense_43 (Dense)            (None, 2)                 34        \n",
            "                                                                 \n",
            "=================================================================\n",
            "Total params: 2,098\n",
            "Trainable params: 2,098\n",
            "Non-trainable params: 0\n",
            "_________________________________________________________________\n"
          ]
        }
      ]
    },
    {
      "cell_type": "code",
      "source": [
        "plt.plot(history.history['loss'])\n",
        "plt.plot(history.history['val_loss'])\n",
        "plt.title('model loss')\n",
        "plt.ylabel('loss')\n",
        "plt.xlabel('epoch')\n",
        "plt.show()"
      ],
      "metadata": {
        "colab": {
          "base_uri": "https://localhost:8080/",
          "height": 295
        },
        "id": "GQOErA64PWEE",
        "outputId": "a348d3d7-c8a7-4ff0-ac92-ac3b20b96159"
      },
      "execution_count": 59,
      "outputs": [
        {
          "output_type": "display_data",
          "data": {
            "text/plain": [
              "<Figure size 432x288 with 1 Axes>"
            ],
            "image/png": "[encoded data removed]"
          },
          "metadata": {
            "needs_background": "light"
          }
        }
      ]
    }
  ]
}